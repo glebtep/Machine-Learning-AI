{
 "cells": [
  {
   "cell_type": "code",
   "execution_count": 18,
   "id": "eeec0c8c-66d4-4197-b47c-9d00abec215c",
   "metadata": {},
   "outputs": [],
   "source": [
    "import pandas as pd\n",
    "import numpy as np\n",
    "import matplotlib.pyplot as plt"
   ]
  },
  {
   "cell_type": "code",
   "execution_count": 19,
   "id": "da43a383-cb3e-477a-9f7f-35f7a258efe5",
   "metadata": {},
   "outputs": [],
   "source": [
    "df = pd.read_excel('Boston.xlsx')"
   ]
  },
  {
   "cell_type": "code",
   "execution_count": 20,
   "id": "a718db26-ec12-4da2-ab92-e9f0e127642c",
   "metadata": {},
   "outputs": [
    {
     "data": {
      "text/html": [
       "<div>\n",
       "<style scoped>\n",
       "    .dataframe tbody tr th:only-of-type {\n",
       "        vertical-align: middle;\n",
       "    }\n",
       "\n",
       "    .dataframe tbody tr th {\n",
       "        vertical-align: top;\n",
       "    }\n",
       "\n",
       "    .dataframe thead th {\n",
       "        text-align: right;\n",
       "    }\n",
       "</style>\n",
       "<table border=\"1\" class=\"dataframe\">\n",
       "  <thead>\n",
       "    <tr style=\"text-align: right;\">\n",
       "      <th></th>\n",
       "      <th>crim</th>\n",
       "      <th>zn</th>\n",
       "      <th>indus</th>\n",
       "      <th>chas</th>\n",
       "      <th>nox</th>\n",
       "      <th>rm</th>\n",
       "      <th>age</th>\n",
       "      <th>dis</th>\n",
       "      <th>rad</th>\n",
       "      <th>tax</th>\n",
       "      <th>ptratio</th>\n",
       "      <th>lstat</th>\n",
       "      <th>medv</th>\n",
       "    </tr>\n",
       "  </thead>\n",
       "  <tbody>\n",
       "    <tr>\n",
       "      <th>0</th>\n",
       "      <td>0.00632</td>\n",
       "      <td>18.0</td>\n",
       "      <td>2.31</td>\n",
       "      <td>0</td>\n",
       "      <td>0.538</td>\n",
       "      <td>6.575</td>\n",
       "      <td>65.2</td>\n",
       "      <td>4.0900</td>\n",
       "      <td>1</td>\n",
       "      <td>296</td>\n",
       "      <td>15.3</td>\n",
       "      <td>4.98</td>\n",
       "      <td>24.0</td>\n",
       "    </tr>\n",
       "    <tr>\n",
       "      <th>1</th>\n",
       "      <td>0.02731</td>\n",
       "      <td>0.0</td>\n",
       "      <td>7.07</td>\n",
       "      <td>0</td>\n",
       "      <td>0.469</td>\n",
       "      <td>6.421</td>\n",
       "      <td>78.9</td>\n",
       "      <td>4.9671</td>\n",
       "      <td>2</td>\n",
       "      <td>242</td>\n",
       "      <td>17.8</td>\n",
       "      <td>9.14</td>\n",
       "      <td>21.6</td>\n",
       "    </tr>\n",
       "    <tr>\n",
       "      <th>2</th>\n",
       "      <td>0.02729</td>\n",
       "      <td>0.0</td>\n",
       "      <td>7.07</td>\n",
       "      <td>0</td>\n",
       "      <td>0.469</td>\n",
       "      <td>7.185</td>\n",
       "      <td>61.1</td>\n",
       "      <td>4.9671</td>\n",
       "      <td>2</td>\n",
       "      <td>242</td>\n",
       "      <td>17.8</td>\n",
       "      <td>4.03</td>\n",
       "      <td>34.7</td>\n",
       "    </tr>\n",
       "    <tr>\n",
       "      <th>3</th>\n",
       "      <td>0.03237</td>\n",
       "      <td>0.0</td>\n",
       "      <td>2.18</td>\n",
       "      <td>0</td>\n",
       "      <td>0.458</td>\n",
       "      <td>6.998</td>\n",
       "      <td>45.8</td>\n",
       "      <td>6.0622</td>\n",
       "      <td>3</td>\n",
       "      <td>222</td>\n",
       "      <td>18.7</td>\n",
       "      <td>2.94</td>\n",
       "      <td>33.4</td>\n",
       "    </tr>\n",
       "    <tr>\n",
       "      <th>4</th>\n",
       "      <td>0.06905</td>\n",
       "      <td>0.0</td>\n",
       "      <td>2.18</td>\n",
       "      <td>0</td>\n",
       "      <td>0.458</td>\n",
       "      <td>7.147</td>\n",
       "      <td>54.2</td>\n",
       "      <td>6.0622</td>\n",
       "      <td>3</td>\n",
       "      <td>222</td>\n",
       "      <td>18.7</td>\n",
       "      <td>5.33</td>\n",
       "      <td>36.2</td>\n",
       "    </tr>\n",
       "  </tbody>\n",
       "</table>\n",
       "</div>"
      ],
      "text/plain": [
       "      crim    zn  indus  chas    nox     rm   age     dis  rad  tax  ptratio  \\\n",
       "0  0.00632  18.0   2.31     0  0.538  6.575  65.2  4.0900    1  296     15.3   \n",
       "1  0.02731   0.0   7.07     0  0.469  6.421  78.9  4.9671    2  242     17.8   \n",
       "2  0.02729   0.0   7.07     0  0.469  7.185  61.1  4.9671    2  242     17.8   \n",
       "3  0.03237   0.0   2.18     0  0.458  6.998  45.8  6.0622    3  222     18.7   \n",
       "4  0.06905   0.0   2.18     0  0.458  7.147  54.2  6.0622    3  222     18.7   \n",
       "\n",
       "   lstat  medv  \n",
       "0   4.98  24.0  \n",
       "1   9.14  21.6  \n",
       "2   4.03  34.7  \n",
       "3   2.94  33.4  \n",
       "4   5.33  36.2  "
      ]
     },
     "execution_count": 20,
     "metadata": {},
     "output_type": "execute_result"
    }
   ],
   "source": [
    "df.head()"
   ]
  },
  {
   "cell_type": "code",
   "execution_count": 21,
   "id": "effefac7-4ca0-4c0f-974e-f552959c5137",
   "metadata": {},
   "outputs": [
    {
     "data": {
      "text/plain": [
       "(506, 13)"
      ]
     },
     "execution_count": 21,
     "metadata": {},
     "output_type": "execute_result"
    }
   ],
   "source": [
    "df.shape"
   ]
  },
  {
   "cell_type": "code",
   "execution_count": 22,
   "id": "90382eb0-0318-4467-842d-84d1e17ab12e",
   "metadata": {},
   "outputs": [
    {
     "data": {
      "text/plain": [
       "crim       float64\n",
       "zn         float64\n",
       "indus      float64\n",
       "chas         int64\n",
       "nox        float64\n",
       "rm         float64\n",
       "age        float64\n",
       "dis        float64\n",
       "rad          int64\n",
       "tax          int64\n",
       "ptratio    float64\n",
       "lstat      float64\n",
       "medv       float64\n",
       "dtype: object"
      ]
     },
     "execution_count": 22,
     "metadata": {},
     "output_type": "execute_result"
    }
   ],
   "source": [
    "df.dtypes"
   ]
  },
  {
   "cell_type": "markdown",
   "id": "bc13c17d-7acd-4342-8647-86ed25e700d6",
   "metadata": {},
   "source": [
    "## Initial data manipulation and exploration"
   ]
  },
  {
   "cell_type": "code",
   "execution_count": 23,
   "id": "842e4545-b1c9-483d-a3fd-fb6586fd981b",
   "metadata": {},
   "outputs": [
    {
     "data": {
      "text/plain": [
       "array([[<Axes: title={'center': 'crim'}>, <Axes: title={'center': 'zn'}>,\n",
       "        <Axes: title={'center': 'indus'}>,\n",
       "        <Axes: title={'center': 'chas'}>],\n",
       "       [<Axes: title={'center': 'nox'}>, <Axes: title={'center': 'rm'}>,\n",
       "        <Axes: title={'center': 'age'}>, <Axes: title={'center': 'dis'}>],\n",
       "       [<Axes: title={'center': 'rad'}>, <Axes: title={'center': 'tax'}>,\n",
       "        <Axes: title={'center': 'ptratio'}>,\n",
       "        <Axes: title={'center': 'lstat'}>],\n",
       "       [<Axes: title={'center': 'medv'}>, <Axes: >, <Axes: >, <Axes: >]],\n",
       "      dtype=object)"
      ]
     },
     "execution_count": 23,
     "metadata": {},
     "output_type": "execute_result"
    },
    {
     "data": {
      "image/png": "[encoded data removed]",
      "text/plain": [
       "<Figure size 640x480 with 16 Axes>"
      ]
     },
     "metadata": {},
     "output_type": "display_data"
    }
   ],
   "source": [
    "# Histograms.  Do they look \"healthy\"?  (Are the skewed in one direction?  Are they bimodal? \n",
    "# For OLS, you really want to have \"Gaussian shaped\" histograms, and not all features have this property here.\n",
    "# At this point we just make a note of this, later you can try to improve the outcome by manipulating the\n",
    "# features. \n",
    "df.hist()"
   ]
  },
  {
   "cell_type": "code",
   "execution_count": 24,
   "id": "d770904b-c586-41cc-b085-91f4d22b18e7",
   "metadata": {},
   "outputs": [
    {
     "data": {
      "text/html": [
       "<div>\n",
       "<style scoped>\n",
       "    .dataframe tbody tr th:only-of-type {\n",
       "        vertical-align: middle;\n",
       "    }\n",
       "\n",
       "    .dataframe tbody tr th {\n",
       "        vertical-align: top;\n",
       "    }\n",
       "\n",
       "    .dataframe thead th {\n",
       "        text-align: right;\n",
       "    }\n",
       "</style>\n",
       "<table border=\"1\" class=\"dataframe\">\n",
       "  <thead>\n",
       "    <tr style=\"text-align: right;\">\n",
       "      <th></th>\n",
       "      <th>crim</th>\n",
       "      <th>zn</th>\n",
       "      <th>indus</th>\n",
       "      <th>chas</th>\n",
       "      <th>nox</th>\n",
       "      <th>rm</th>\n",
       "      <th>age</th>\n",
       "      <th>dis</th>\n",
       "      <th>rad</th>\n",
       "      <th>tax</th>\n",
       "      <th>ptratio</th>\n",
       "      <th>lstat</th>\n",
       "      <th>medv</th>\n",
       "    </tr>\n",
       "  </thead>\n",
       "  <tbody>\n",
       "    <tr>\n",
       "      <th>count</th>\n",
       "      <td>506.000000</td>\n",
       "      <td>506.000000</td>\n",
       "      <td>506.000000</td>\n",
       "      <td>506.000000</td>\n",
       "      <td>506.000000</td>\n",
       "      <td>506.000000</td>\n",
       "      <td>506.000000</td>\n",
       "      <td>506.000000</td>\n",
       "      <td>506.000000</td>\n",
       "      <td>506.000000</td>\n",
       "      <td>506.000000</td>\n",
       "      <td>506.000000</td>\n",
       "      <td>506.000000</td>\n",
       "    </tr>\n",
       "    <tr>\n",
       "      <th>mean</th>\n",
       "      <td>3.613524</td>\n",
       "      <td>11.363636</td>\n",
       "      <td>11.136779</td>\n",
       "      <td>0.069170</td>\n",
       "      <td>0.554695</td>\n",
       "      <td>6.284634</td>\n",
       "      <td>68.574901</td>\n",
       "      <td>3.795043</td>\n",
       "      <td>9.549407</td>\n",
       "      <td>408.237154</td>\n",
       "      <td>18.455534</td>\n",
       "      <td>12.653063</td>\n",
       "      <td>22.532806</td>\n",
       "    </tr>\n",
       "    <tr>\n",
       "      <th>std</th>\n",
       "      <td>8.601545</td>\n",
       "      <td>23.322453</td>\n",
       "      <td>6.860353</td>\n",
       "      <td>0.253994</td>\n",
       "      <td>0.115878</td>\n",
       "      <td>0.702617</td>\n",
       "      <td>28.148861</td>\n",
       "      <td>2.105710</td>\n",
       "      <td>8.707259</td>\n",
       "      <td>168.537116</td>\n",
       "      <td>2.164946</td>\n",
       "      <td>7.141062</td>\n",
       "      <td>9.197104</td>\n",
       "    </tr>\n",
       "    <tr>\n",
       "      <th>min</th>\n",
       "      <td>0.006320</td>\n",
       "      <td>0.000000</td>\n",
       "      <td>0.460000</td>\n",
       "      <td>0.000000</td>\n",
       "      <td>0.385000</td>\n",
       "      <td>3.561000</td>\n",
       "      <td>2.900000</td>\n",
       "      <td>1.129600</td>\n",
       "      <td>1.000000</td>\n",
       "      <td>187.000000</td>\n",
       "      <td>12.600000</td>\n",
       "      <td>1.730000</td>\n",
       "      <td>5.000000</td>\n",
       "    </tr>\n",
       "    <tr>\n",
       "      <th>25%</th>\n",
       "      <td>0.082045</td>\n",
       "      <td>0.000000</td>\n",
       "      <td>5.190000</td>\n",
       "      <td>0.000000</td>\n",
       "      <td>0.449000</td>\n",
       "      <td>5.885500</td>\n",
       "      <td>45.025000</td>\n",
       "      <td>2.100175</td>\n",
       "      <td>4.000000</td>\n",
       "      <td>279.000000</td>\n",
       "      <td>17.400000</td>\n",
       "      <td>6.950000</td>\n",
       "      <td>17.025000</td>\n",
       "    </tr>\n",
       "    <tr>\n",
       "      <th>50%</th>\n",
       "      <td>0.256510</td>\n",
       "      <td>0.000000</td>\n",
       "      <td>9.690000</td>\n",
       "      <td>0.000000</td>\n",
       "      <td>0.538000</td>\n",
       "      <td>6.208500</td>\n",
       "      <td>77.500000</td>\n",
       "      <td>3.207450</td>\n",
       "      <td>5.000000</td>\n",
       "      <td>330.000000</td>\n",
       "      <td>19.050000</td>\n",
       "      <td>11.360000</td>\n",
       "      <td>21.200000</td>\n",
       "    </tr>\n",
       "    <tr>\n",
       "      <th>75%</th>\n",
       "      <td>3.677083</td>\n",
       "      <td>12.500000</td>\n",
       "      <td>18.100000</td>\n",
       "      <td>0.000000</td>\n",
       "      <td>0.624000</td>\n",
       "      <td>6.623500</td>\n",
       "      <td>94.075000</td>\n",
       "      <td>5.188425</td>\n",
       "      <td>24.000000</td>\n",
       "      <td>666.000000</td>\n",
       "      <td>20.200000</td>\n",
       "      <td>16.955000</td>\n",
       "      <td>25.000000</td>\n",
       "    </tr>\n",
       "    <tr>\n",
       "      <th>max</th>\n",
       "      <td>88.976200</td>\n",
       "      <td>100.000000</td>\n",
       "      <td>27.740000</td>\n",
       "      <td>1.000000</td>\n",
       "      <td>0.871000</td>\n",
       "      <td>8.780000</td>\n",
       "      <td>100.000000</td>\n",
       "      <td>12.126500</td>\n",
       "      <td>24.000000</td>\n",
       "      <td>711.000000</td>\n",
       "      <td>22.000000</td>\n",
       "      <td>37.970000</td>\n",
       "      <td>50.000000</td>\n",
       "    </tr>\n",
       "  </tbody>\n",
       "</table>\n",
       "</div>"
      ],
      "text/plain": [
       "             crim          zn       indus        chas         nox          rm  \\\n",
       "count  506.000000  506.000000  506.000000  506.000000  506.000000  506.000000   \n",
       "mean     3.613524   11.363636   11.136779    0.069170    0.554695    6.284634   \n",
       "std      8.601545   23.322453    6.860353    0.253994    0.115878    0.702617   \n",
       "min      0.006320    0.000000    0.460000    0.000000    0.385000    3.561000   \n",
       "25%      0.082045    0.000000    5.190000    0.000000    0.449000    5.885500   \n",
       "50%      0.256510    0.000000    9.690000    0.000000    0.538000    6.208500   \n",
       "75%      3.677083   12.500000   18.100000    0.000000    0.624000    6.623500   \n",
       "max     88.976200  100.000000   27.740000    1.000000    0.871000    8.780000   \n",
       "\n",
       "              age         dis         rad         tax     ptratio       lstat  \\\n",
       "count  506.000000  506.000000  506.000000  506.000000  506.000000  506.000000   \n",
       "mean    68.574901    3.795043    9.549407  408.237154   18.455534   12.653063   \n",
       "std     28.148861    2.105710    8.707259  168.537116    2.164946    7.141062   \n",
       "min      2.900000    1.129600    1.000000  187.000000   12.600000    1.730000   \n",
       "25%     45.025000    2.100175    4.000000  279.000000   17.400000    6.950000   \n",
       "50%     77.500000    3.207450    5.000000  330.000000   19.050000   11.360000   \n",
       "75%     94.075000    5.188425   24.000000  666.000000   20.200000   16.955000   \n",
       "max    100.000000   12.126500   24.000000  711.000000   22.000000   37.970000   \n",
       "\n",
       "             medv  \n",
       "count  506.000000  \n",
       "mean    22.532806  \n",
       "std      9.197104  \n",
       "min      5.000000  \n",
       "25%     17.025000  \n",
       "50%     21.200000  \n",
       "75%     25.000000  \n",
       "max     50.000000  "
      ]
     },
     "execution_count": 24,
     "metadata": {},
     "output_type": "execute_result"
    }
   ],
   "source": [
    "# Are there missing values?  Look at the \"Count\" row to see how many entries are available for each column.\n",
    "# Verify that there are no missing values.\n",
    "df.describe()"
   ]
  },
  {
   "cell_type": "markdown",
   "id": "369181fe-b42a-4209-a211-5d85670e21ab",
   "metadata": {},
   "source": [
    "##  We are ready to try our first go at OLS.  In the next code cell, you will learn how to use sklearn's OLS by a toy example.  Please carefully inspect this toy example, and make sure you understand what is going on, especially the process of \"fitting\" (on the training data) and \"predicting\" (on both training and validation).  Repeat the same process below on the Boston data, using medv as the target."
   ]
  },
  {
   "cell_type": "code",
   "execution_count": 25,
   "id": "89caa643-6e59-4583-b475-d2c8e505c086",
   "metadata": {},
   "outputs": [
    {
     "name": "stdout",
     "output_type": "stream",
     "text": [
      "Train R^2 score: 0.8377146277743173\n",
      "Test R^2 score: 0.8488136495253212\n"
     ]
    }
   ],
   "source": [
    "### Toy Example (synthetic) ordinary linear regression (OLS)\n",
    "import numpy as np\n",
    "from sklearn.linear_model import LinearRegression\n",
    "x1 = np.random.rand(100)\n",
    "x2 = np.random.rand(100)\n",
    "data_train = pd.DataFrame({\n",
    "    'x1' : np.random.rand(100)*10,\n",
    "    'x2' : np.random.rand(100)*10,\n",
    "})\n",
    "data_test = pd.DataFrame({\n",
    "    'x1' : np.random.rand(100)*10,\n",
    "    'x2' : np.random.rand(100)*10,\n",
    "})\n",
    "\n",
    "# Synthetically create a label that is a close to being a linear combination of the two features, plus some \"noise\".\n",
    "y_train = data_train['x1'] + 2 * data_train['x2'] + np.random.rand(100)*10\n",
    "y_test = data_test['x1'] + 2 * data_test['x2'] + np.random.rand(100)*10\n",
    "\n",
    "lr = LinearRegression()\n",
    "lr.fit(data_train, y_train)\n",
    "print (f\"Train R^2 score: {lr.score(data_train, y_train)}\")\n",
    "print (f\"Test R^2 score: {lr.score(data_test, y_test)}\")\n",
    "\n",
    "# Get predictions\n",
    "data_train['y_predicted'] = lr.predict(data_train)\n",
    "data_test['y_predicted'] = lr.predict(data_test)\n",
    "\n",
    "\n",
    "## In order to do \"Ridge regression\" (L2 regularization)\n",
    "# from sklearn.linear_model import Ridge\n",
    "# ridge_lr = Ridge(alpha=....)\n",
    "# See https://scikit-learn.org/stable/modules/generated/sklearn.linear_model.Ridge.html\n",
    "## Lasso (L1 regularization)\n",
    "# from sklearn.linear_model import Lasso\n",
    "# lasso_lr = Lasso(alpha=....)\n",
    "# See https://scikit-learn.org/stable/modules/generated/sklearn.linear_model.Lasso.html\n"
   ]
  },
  {
   "cell_type": "markdown",
   "id": "689f2325-6bd2-4798-a968-35b07dc19969",
   "metadata": {},
   "source": [
    "## After making sure you understand the example, go ahead and run OLS on the Boston data, with medv as the target. First you will need to split the data to train (in this case, 80%) and test (the remaining 20%). Output the R-squared score of the model on both the training and on the test set, as well as the MSE on both.  You can use sklearn.metrics.r2_score for getting the R2 score, or do it as above using the trained LinearRegression object. You can use sklearn.metrics.mean_squared_error for the MSE.  Refer to the documentation of sklearn for usage of both.\n"
   ]
  },
  {
   "cell_type": "markdown",
   "id": "fe3e2392-7cc9-4820-8de7-aa1fbfec7440",
   "metadata": {},
   "source": []
  },
  {
   "cell_type": "code",
   "execution_count": 26,
   "id": "93ff223f-6641-4914-8d23-f6a5b86b6258",
   "metadata": {},
   "outputs": [
    {
     "name": "stdout",
     "output_type": "stream",
     "text": [
      "       crim        zn     indus      chas       nox        rm       age  \\\n",
      "0 -0.419782  0.284830 -1.287909 -0.272599 -0.144217  0.413672 -0.120013   \n",
      "1 -0.417339 -0.487722 -0.593381 -0.272599 -0.740262  0.194274  0.367166   \n",
      "2 -0.417342 -0.487722 -0.593381 -0.272599 -0.740262  1.282714 -0.265812   \n",
      "3 -0.416750 -0.487722 -1.306878 -0.272599 -0.835284  1.016303 -0.809889   \n",
      "4 -0.412482 -0.487722 -1.306878 -0.272599 -0.835284  1.228577 -0.511180   \n",
      "\n",
      "        dis       rad       tax   ptratio     lstat  medv  \n",
      "0  0.140214 -0.982843 -0.666608 -1.459000 -1.075562  24.0  \n",
      "1  0.557160 -0.867883 -0.987329 -0.303094 -0.492439  21.6  \n",
      "2  0.557160 -0.867883 -0.987329 -0.303094 -1.208727  34.7  \n",
      "3  1.077737 -0.752922 -1.106115  0.113032 -1.361517  33.4  \n",
      "4  1.077737 -0.752922 -1.106115  0.113032 -1.026501  36.2  \n"
     ]
    }
   ],
   "source": [
    "# No missing values, all features numerical, let's try OLS.  \n",
    "# First, let's do standars scaling of the variables.\n",
    "# you code here...\n",
    "\n",
    "from sklearn.preprocessing import StandardScaler\n",
    "\n",
    "#standard scaling of the variables\n",
    "scaler = StandardScaler()\n",
    "df_scaled = pd.DataFrame(scaler.fit_transform(df.drop('medv', axis=1)), columns=df.columns[:-1])\n",
    "\n",
    "# Adding the target variable 'medv' back to the scaled dataframe\n",
    "df_scaled['medv'] = df['medv']\n",
    "\n",
    "#Printing the result to check\n",
    "print(df_scaled.head())"
   ]
  },
  {
   "cell_type": "code",
   "execution_count": 27,
   "id": "b386d4c9-d336-401c-8efe-76d7d44d1bad",
   "metadata": {},
   "outputs": [],
   "source": [
    "# Split the data into train and test\n",
    "# your code here...\n",
    "from sklearn.model_selection import train_test_split\n",
    "\n",
    "# Selecting the target variable and features\n",
    "X = df_scaled.drop('medv', axis=1)\n",
    "y = df_scaled['medv']\n",
    "\n",
    "# Splitting the data (80% train, 20% test)\n",
    "X_train, X_test, y_train, y_test = train_test_split(X, y, test_size=0.2, random_state=42)\n"
   ]
  },
  {
   "cell_type": "code",
   "execution_count": 28,
   "id": "1cb35a07-af0a-492f-bf2e-2a8b424cd9ef",
   "metadata": {},
   "outputs": [
    {
     "name": "stdout",
     "output_type": "stream",
     "text": [
      "Train R2: 0.739801993681731\n",
      "Test R2: 0.6893967884614753\n",
      "Train MSE: 22.60428647941742\n",
      "Test MSE: 22.777708563866085\n"
     ]
    }
   ],
   "source": [
    "# Train the linear regression algorithm on the training set, compute MSE and R2 on both training and test\n",
    "# Your code here...\n",
    "from sklearn.linear_model import LinearRegression\n",
    "from sklearn.metrics import mean_squared_error, r2_score\n",
    "\n",
    "# Train the linear regression model\n",
    "lr = LinearRegression()\n",
    "lr.fit(X_train, y_train)\n",
    "\n",
    "# Predictions\n",
    "y_train_pred = lr.predict(X_train)\n",
    "y_test_pred = lr.predict(X_test)\n",
    "\n",
    "# Evaluation\n",
    "train_r2 = r2_score(y_train, y_train_pred)\n",
    "test_r2 = r2_score(y_test, y_test_pred)\n",
    "train_mse = mean_squared_error(y_train, y_train_pred)\n",
    "test_mse = mean_squared_error(y_test, y_test_pred)\n",
    "\n",
    "print(f\"Train R2: {train_r2}\")\n",
    "print(f\"Test R2: {test_r2}\")\n",
    "print(f\"Train MSE: {train_mse}\")\n",
    "print(f\"Test MSE: {test_mse}\")\n"
   ]
  },
  {
   "cell_type": "code",
   "execution_count": 29,
   "id": "7f4664ba-5262-4cfc-b49f-af32fcebd455",
   "metadata": {},
   "outputs": [
    {
     "data": {
      "image/png": "[encoded data removed]",
      "text/plain": [
       "<Figure size 1000x500 with 2 Axes>"
      ]
     },
     "metadata": {},
     "output_type": "display_data"
    }
   ],
   "source": [
    "# A good way to visualize the error structure is to plot the label y against the predicted (y-hat) in the same plot.\n",
    "# Do this for both train and test and inspect the result.  Do the residuals seem to be evenly distributed across\n",
    "# the range of y values, or are they higher when y is high?  Perhaps they are  higher when y is low?\n",
    "# Plotting actual vs predicted values for training and testing sets\n",
    "plt.figure(figsize=(10, 5))\n",
    "\n",
    "# Training set plot\n",
    "plt.subplot(1, 2, 1)\n",
    "plt.scatter(y_train, y_train_pred, color='green')\n",
    "plt.xlabel('Actual')\n",
    "plt.ylabel('Predicted')\n",
    "plt.title('Training Set: Actual vs Predicted')\n",
    "\n",
    "# Testing set plot\n",
    "plt.subplot(1, 2, 2)\n",
    "plt.scatter(y_test, y_test_pred, color='purple')\n",
    "plt.xlabel('Actual')\n",
    "plt.ylabel('Predicted')\n",
    "plt.title('Testing Set: Actual vs Predicted')\n",
    "\n",
    "plt.tight_layout()\n",
    "plt.show()\n"
   ]
  },
  {
   "cell_type": "markdown",
   "id": "cd275247-0cba-4369-8306-f8dd7b14cff7",
   "metadata": {},
   "source": [
    "## The goal of the next part is to try to create a \"sweet spot\" plot with ridge regression, using the alpha parameter as a model complexity knob.  To make the plot clearer, first chop off everything but the first 50 rows of X_train and y_train (this is not something you want to do in general, it is just to get the plot), but store the chopped version in a different variable, because you will need the full X_train and y_train later.  In a loop with alpha in 0,1,2,3,...,49 train a linear Ridge regression (see comments in the toy example above for instructions), and store both the training R2 metric (or MSE) and the test R2 metric (or MSE) in arrays.  There should be a total of 50 evaluation metrics for both training and testing.  Now plot the evaluation metric for the training data, against the alpha parameter (in blue), and the same for the testing data (in red).  Does the sweet-splot pattern emerge?"
   ]
  },
  {
   "cell_type": "code",
   "execution_count": 30,
   "id": "99658103-d2dd-45d3-b71b-86efcbc179ec",
   "metadata": {},
   "outputs": [
    {
     "data": {
      "image/png": "[encoded data removed]",
      "text/plain": [
       "<Figure size 1000x500 with 1 Axes>"
      ]
     },
     "metadata": {},
     "output_type": "display_data"
    }
   ],
   "source": [
    "from sklearn.linear_model import Ridge\n",
    "import matplotlib.pyplot as plt\n",
    "# Your code here...\n",
    "\n",
    "\n",
    "#first 50 rows\n",
    "X_train_chopped = X_train[:50]\n",
    "y_train_chopped = y_train[:50]\n",
    "\n",
    "#creating arrays to store the R2 scores\n",
    "train_r2_scores = []\n",
    "test_r2_scores = []\n",
    "\n",
    "# Train Ridge regression for alpha values from 0 to 49\n",
    "for alpha in range(50):\n",
    "    ridge_model = Ridge(alpha=alpha)\n",
    "    ridge_model.fit(X_train_chopped, y_train_chopped)\n",
    "\n",
    "    # Append R2 scores for training and testing sets\n",
    "    train_r2_scores.append(ridge_model.score(X_train_chopped, y_train_chopped))\n",
    "    test_r2_scores.append(ridge_model.score(X_test, y_test))\n",
    "\n",
    "# Plot the R2 scores\n",
    "plt.figure(figsize=(10, 5))\n",
    "plt.plot(range(50), train_r2_scores, label='Train R2', color='green')\n",
    "plt.plot(range(50), test_r2_scores, label='Test R2', color='purple')\n",
    "plt.xlabel('Alpha')\n",
    "plt.ylabel('R2 Score')\n",
    "plt.title('R2 Scores for Different Alphas in Ridge Regression')\n",
    "plt.legend()\n",
    "plt.show()"
   ]
  },
  {
   "cell_type": "markdown",
   "id": "3b0d62d2-dc91-4034-b5fb-f0b385992eaf",
   "metadata": {},
   "source": [
    "## Finally in the code cells before, try to get a better result (than the OLS experiment) by possibly manipulating features, using Ridge/Lasso with various parameters etc. You are free to try everything you have learned so far.  Do not use the chopped training data from the last step - use the enire"
   ]
  },
  {
   "cell_type": "code",
   "execution_count": 31,
   "id": "eb17cc5d-276d-42a8-a3b7-3a94cef40685",
   "metadata": {},
   "outputs": [
    {
     "name": "stdout",
     "output_type": "stream",
     "text": [
      "Lasso - Best Alpha: 0.0001, Test R2: 0.6893876284133218\n",
      "Ridge - Best Alpha: 7.054802310718645, Test R2: 0.6862905303953171\n"
     ]
    }
   ],
   "source": [
    "from sklearn.linear_model import LassoCV, RidgeCV\n",
    "from sklearn.preprocessing import StandardScaler\n",
    "import numpy as np\n",
    "\n",
    "####\n",
    "scaler = StandardScaler()\n",
    "X_train_scaled = scaler.fit_transform(X_train)\n",
    "X_test_scaled = scaler.transform(X_test)\n",
    "\n",
    "#Increasing the range of alpha values for hyperparameter tuning\n",
    "alphas = np.logspace(-4, 4, 100)\n",
    "\n",
    "# Lasso with Cross-Validation\n",
    "lasso_cv = LassoCV(alphas=alphas, max_iter=10000, random_state=0)\n",
    "lasso_cv.fit(X_train_scaled, y_train)\n",
    "lasso_test_r2 = lasso_cv.score(X_test_scaled, y_test)\n",
    "\n",
    "# Ridge with Cross-Validation\n",
    "ridge_cv = RidgeCV(alphas=alphas)\n",
    "ridge_cv.fit(X_train_scaled, y_train)\n",
    "ridge_test_r2 = ridge_cv.score(X_test_scaled, y_test)\n",
    "\n",
    "print(f\"Lasso - Best Alpha: {lasso_cv.alpha_}, Test R2: {lasso_test_r2}\")\n",
    "print(f\"Ridge - Best Alpha: {ridge_cv.alpha_}, Test R2: {ridge_test_r2}\")"
   ]
  }
 ],
 "metadata": {
  "kernelspec": {
   "display_name": "Python 3 (ipykernel)",
   "language": "python",
   "name": "python3"
  },
  "language_info": {
   "codemirror_mode": {
    "name": "ipython",
    "version": 3
   },
   "file_extension": ".py",
   "mimetype": "text/x-python",
   "name": "python",
   "nbconvert_exporter": "python",
   "pygments_lexer": "ipython3",
   "version": "3.11.4"
  }
 },
 "nbformat": 4,
 "nbformat_minor": 5
}
