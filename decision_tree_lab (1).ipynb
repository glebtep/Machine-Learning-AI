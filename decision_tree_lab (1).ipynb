{
  "cells": [
    {
      "cell_type": "code",
      "execution_count": 1,
      "metadata": {
        "id": "fdkQoRybTh1H"
      },
      "outputs": [],
      "source": [
        "import pandas as pd\n",
        "from sklearn.tree import DecisionTreeClassifier # Import Decision Tree Classifier\n",
        "from sklearn.model_selection import train_test_split # Import train_test_split function\n",
        "from sklearn import metrics #Import scikit-learn metrics module for accuracy calculation\n",
        "import numpy as np\n",
        "import matplotlib.pyplot as plt\n"
      ]
    },
    {
      "cell_type": "code",
      "execution_count": 3,
      "metadata": {
        "id": "eLTYOJABXBRW"
      },
      "outputs": [],
      "source": [
        "data = pd.read_csv(\"customers_churn.csv\")"
      ]
    },
    {
      "cell_type": "markdown",
      "metadata": {},
      "source": []
    },
    {
      "cell_type": "code",
      "execution_count": 4,
      "metadata": {
        "id": "w4Br2L4ST4FD"
      },
      "outputs": [
        {
          "data": {
            "text/plain": [
              "State              object\n",
              "Account_Length      int64\n",
              "Area_Code           int64\n",
              "Phone              object\n",
              "Intl_Plan          object\n",
              "VMail_Plan         object\n",
              "VMail_Message       int64\n",
              "Day_Mins          float64\n",
              "Day_Calls           int64\n",
              "Day_Charge        float64\n",
              "Eve_Mins          float64\n",
              "Eve_Calls           int64\n",
              "Eve_Charge        float64\n",
              "Night_Mins        float64\n",
              "Night_Calls         int64\n",
              "Night_Charge      float64\n",
              "Intl_Mins         float64\n",
              "total_Mins        float64\n",
              "Intl_Calls          int64\n",
              "Intl_Charge       float64\n",
              "Total_Charge      float64\n",
              "CustServ_Calls      int64\n",
              "Churn               int64\n",
              "dtype: object"
            ]
          },
          "execution_count": 4,
          "metadata": {},
          "output_type": "execute_result"
        }
      ],
      "source": [
        "data.dtypes"
      ]
    },
    {
      "cell_type": "code",
      "execution_count": 5,
      "metadata": {
        "id": "INkDrnItuHcF"
      },
      "outputs": [],
      "source": [
        "# Remove the State and Phone categoricals, separate y from X\n",
        "X = data.drop(columns=[\"Churn\", \"State\", \"Phone\"])\n",
        "y = data[\"Churn\"]"
      ]
    },
    {
      "cell_type": "code",
      "execution_count": null,
      "metadata": {
        "id": "LYjtn41S5B2v"
      },
      "outputs": [],
      "source": [
        "# Convert \"yes\" to 1 and \"no\" to 0 in VMail_Plan, Intl_Plan features\n",
        "#\n",
        "# your code here...\n"
      ]
    },
    {
      "cell_type": "code",
      "execution_count": 11,
      "metadata": {
        "id": "a-J7G48xrSlC"
      },
      "outputs": [
        {
          "name": "stdout",
          "output_type": "stream",
          "text": [
            "   VMail_Plan  Intl_Plan\n",
            "0           1          0\n",
            "1           1          0\n",
            "2           0          0\n",
            "3           0          1\n",
            "4           0          1\n"
          ]
        }
      ],
      "source": [
        "X['VMail_Plan'] = X['VMail_Plan'].replace({'yes': 1, 'no': 0})\n",
        "X['Intl_Plan'] = X['Intl_Plan'].replace({'yes': 1, 'no': 0})\n",
        "\n",
        "print(data[['VMail_Plan', 'Intl_Plan']].head())"
      ]
    },
    {
      "cell_type": "code",
      "execution_count": 12,
      "metadata": {
        "id": "lXunZl3kT5co"
      },
      "outputs": [
        {
          "data": {
            "text/plain": [
              "0    2850\n",
              "1     483\n",
              "Name: Churn, dtype: int64"
            ]
          },
          "execution_count": 12,
          "metadata": {},
          "output_type": "execute_result"
        }
      ],
      "source": [
        "y.value_counts()"
      ]
    },
    {
      "cell_type": "markdown",
      "metadata": {
        "id": "NdQS__dw6_Af"
      },
      "source": [
        "As you can see, this is an unbalanced dataset with \"0\" (negative) rate of 85%.\n",
        "This means that whatever we get from the learning algorithm, if it is less than 85% then it is worthless, because we could get that simply by predicting \"0\"."
      ]
    },
    {
      "cell_type": "code",
      "execution_count": 13,
      "metadata": {
        "id": "muTUpijnUKJf"
      },
      "outputs": [
        {
          "name": "stdout",
          "output_type": "stream",
          "text": [
            "0    2850\n",
            "1     483\n",
            "Name: Churn, dtype: int64\n"
          ]
        }
      ],
      "source": [
        "# Split dataset into training set and test set with 70%-30%\n",
        "\n",
        "# ...\n",
        "from sklearn.model_selection import train_test_split\n",
        "X_train, X_test, y_train, y_test = train_test_split(X, y, test_size=0.3, random_state=42, stratify=y)\n",
        "\n",
        "y_value_counts = y.value_counts()\n",
        "print(y_value_counts)"
      ]
    },
    {
      "cell_type": "code",
      "execution_count": 14,
      "metadata": {
        "id": "b3rS8ueGUN4j"
      },
      "outputs": [],
      "source": [
        "# Create Decision Tree classifier object - no restrictions for now\n",
        "clf = DecisionTreeClassifier(min_samples_split=2, max_depth=None)\n",
        "\n",
        "# Your code below - fit the model\n",
        "#...\n",
        "tree = clf.fit(X_train, y_train) # Assigning the result to a variable tree will allow us to view the tree"
      ]
    },
    {
      "cell_type": "code",
      "execution_count": 15,
      "metadata": {
        "id": "9tw1dVFBU0pE"
      },
      "outputs": [
        {
          "name": "stdout",
          "output_type": "stream",
          "text": [
            "Training Accuracy: 1.0\n",
            "Test Accuracy: 0.941\n"
          ]
        }
      ],
      "source": [
        "# Print the test accuracy and the train accuracy\n",
        "# your code here\n",
        "# ...\n",
        "y_pred_train = tree.predict(X_train)\n",
        "y_pred_test = tree.predict(X_test)\n",
        "\n",
        "train_accuracy = metrics.accuracy_score(y_train, y_pred_train)\n",
        "test_accuracy = metrics.accuracy_score(y_test, y_pred_test)\n",
        "\n",
        "print(f\"Training Accuracy: {train_accuracy}\")\n",
        "print(f\"Test Accuracy: {test_accuracy}\")"
      ]
    },
    {
      "cell_type": "markdown",
      "metadata": {
        "id": "ELTVdQKijAFI"
      },
      "source": [
        "There is probably a bit of overfitting.  Let us view the tree."
      ]
    },
    {
      "cell_type": "code",
      "execution_count": 21,
      "metadata": {
        "id": "xau2IDsFVBe7"
      },
      "outputs": [
        {
          "data": {
            "text/plain": [
              "True"
            ]
          },
          "execution_count": 21,
          "metadata": {},
          "output_type": "execute_result"
        }
      ],
      "source": [
        "from sklearn.tree import export_graphviz\n",
        "import pydotplus\n",
        "\n",
        "# This will create a .dot file, which is a standard for representing trees.\n",
        "# Feel free to open it and view it (it is textual)\n",
        "export_graphviz(tree, out_file=\"tree.dot\",\n",
        "                filled=True, rounded=True,\n",
        "                special_characters=True,\n",
        "                feature_names = X_train.columns,\n",
        "                class_names=['0','1'])\n",
        "import pydotplus # for viewing .dot files\n",
        "pydotplus.graph_from_dot_file(\"tree.dot\").write_png('tree.png')"
      ]
    },
    {
      "cell_type": "markdown",
      "metadata": {
        "id": "V7GmYBpI3wBf"
      },
      "source": [
        "### Inspecting the tree visually\n",
        "Open the file tree.png that was created, and view it with your favorite viewer.  The resulting tree is extremely complex, and you may need a zoom-in tool to see what's going on.  The first thing to note is that the algorithm uses the \"gini\" index to decide whether to split a node.  Each node in the tree is annotated with the Gini index. This is because by default, the algorithm uses the \"gini\" criterion.  If you look at the documentation, you shall see that this criterion can be changed in the arguments of DecisionTreeClassifier, using the keyword criterion=\"entropy\" for Information Gain as we learned in class.  \n",
        "Additionally, each node is also annotated with the number of training examples falling in the region defined by the node, and also with a count of the number of \"0\" and number of \"1\"'s in the training set in that region (\"value\" in the picture), which can be used for soft prediction. Finally you will see \"class\" which is the hard prediction.\n",
        " If you inspect the leaves, you will see that they are all pure, which happens because we enforced no limits on the output tree."
      ]
    },
    {
      "cell_type": "markdown",
      "metadata": {
        "id": "KXI0pGO842va"
      },
      "source": [
        "To fight the overfitting, we may want to limit the tree in some way.  max_depth is a typical way.  Let's try it."
      ]
    },
    {
      "cell_type": "code",
      "execution_count": 22,
      "metadata": {
        "id": "sZBKyWLRhg2D"
      },
      "outputs": [],
      "source": [
        "# Create Decision Tree classifier object with depth at most 2\n",
        "clf_restricted = DecisionTreeClassifier(max_depth=2)\n",
        "\n",
        "# Fit the model with the restricted depth\n",
        "tree_restricted = clf_restricted.fit(X_train, y_train)\n"
      ]
    },
    {
      "cell_type": "markdown",
      "metadata": {},
      "source": []
    },
    {
      "cell_type": "markdown",
      "metadata": {},
      "source": []
    },
    {
      "cell_type": "markdown",
      "metadata": {},
      "source": []
    },
    {
      "cell_type": "code",
      "execution_count": 23,
      "metadata": {
        "id": "bWnLyXX3iUcA"
      },
      "outputs": [],
      "source": [
        "export_graphviz(tree, out_file=\"tree2.dot\",\n",
        "                filled=True, rounded=True,\n",
        "                special_characters=True,\n",
        "                class_names=['0','1'],\n",
        "                feature_names = X_train.columns)\n",
        "graph = pydotplus.graph_from_dot_file(\"tree2.dot\").write_png('tree2.png')\n",
        "# View the resulting tree2.png, compare to tree.png"
      ]
    },
    {
      "cell_type": "markdown",
      "metadata": {
        "id": "N-5vaEIV5kYG"
      },
      "source": [
        "Let's look at the training and validation error."
      ]
    },
    {
      "cell_type": "code",
      "execution_count": 24,
      "metadata": {
        "id": "qZF-ikHB5R5J"
      },
      "outputs": [
        {
          "name": "stdout",
          "output_type": "stream",
          "text": [
            "Training Error: 0.0\n",
            "Test Error: 0.05900000000000005\n"
          ]
        }
      ],
      "source": [
        "# Your code here for printing training and validation error\n",
        "# Calculating training and test errors\n",
        "train_error = 1 - train_accuracy\n",
        "test_error = 1 - test_accuracy\n",
        "\n",
        "print(f\"Training Error: {train_error}\")\n",
        "print(f\"Test Error: {test_error}\")\n"
      ]
    },
    {
      "cell_type": "markdown",
      "metadata": {
        "id": "ELgpcFpnNgu1"
      },
      "source": [
        "### The sweet spot plot: Visualizing overfitting\n",
        "In this exercise we will go back to the binary classification problem, and we shall vary the max-depth parameter from 1 to 20. For each value of max-depth, we will run k-fold cross validation on the decision tree classifier, in order to get a low-variance estimate of both the training and of the validation error.  Finally, we will plot both the training and validation errors and see what we get.\n",
        "\n",
        "We will use sklean's model_selection.KFold for performing the K-fold management.  There are other options, for example model_selection.cross_val_score, but the \"KFold\" option gives us low-level control over the process, which we need for this case."
      ]
    },
    {
      "cell_type": "code",
      "execution_count": 27,
      "metadata": {
        "id": "YGvEXy38Nihu"
      },
      "outputs": [
        {
          "name": "stderr",
          "output_type": "stream",
          "text": [
            "No artists with labels found to put in legend.  Note that artists whose label start with an underscore are ignored when legend() is called with no argument.\n"
          ]
        },
        {
          "data": {
            "image/png": "[encoded data removed]",
            "text/plain": [
              "<Figure size 640x480 with 1 Axes>"
            ]
          },
          "metadata": {},
          "output_type": "display_data"
        }
      ],
      "source": [
        "from sklearn.model_selection import KFold\n",
        "from sklearn.metrics import accuracy_score\n",
        "max_depth_vals = range(1,21)\n",
        "train_accuracies = []\n",
        "test_accuracies = []\n",
        "n_splits = 5\n",
        "for max_depth in max_depth_vals:\n",
        "  kf = KFold(n_splits=n_splits, shuffle=True)\n",
        "  av_train_accuracy = 0.0\n",
        "  av_test_accuracy = 0.0\n",
        "  for i, (train_index, val_index) in enumerate(kf.split(X)):\n",
        "    # train_index is series of indices of training set\n",
        "    # test_index is series of indices of the test set\n",
        "    # you can use them to extract a training and test index for the current fold\n",
        "    # your code here to extract a train, val dataframes\n",
        "    X_train_kf, X_test_kf = X.iloc[train_index], X.iloc[val_index]\n",
        "    y_train_kf, y_test_kf = y.iloc[train_index], y.iloc[val_index]\n",
        "    # ....\n",
        "    clf = DecisionTreeClassifier(max_depth = max_depth)\n",
        "    # Your code here... fit clf on the extracted train, test dataset\n",
        "    # Then compute train_accuracy and test_accuracy\n",
        "    # ...\n",
        "    # ...\n",
        "    clf.fit(X_train_kf, y_train_kf)\n",
        "    y_train_pred = clf.predict(X_train_kf)\n",
        "    y_test_pred = clf.predict(X_test_kf)\n",
        "    train_accuracy = accuracy_score(y_train_kf, y_train_pred)\n",
        "    test_accuracy = accuracy_score(y_test_kf, y_test_pred)\n",
        "        \n",
        "\n",
        "    av_train_accuracy += train_accuracy / n_splits\n",
        "    av_test_accuracy  += test_accuracy / n_splits\n",
        "  train_accuracies.append(av_train_accuracy)\n",
        "  test_accuracies.append(av_test_accuracy)\n",
        "plt.plot(max_depth_vals, train_accuracies, 'r') # train curve in red\n",
        "plt.plot(max_depth_vals, test_accuracies, 'b')#test curve in blue\n",
        "plt.xlabel('Max Depth')\n",
        "plt.ylabel('Accuracy')\n",
        "plt.title('Decision Tree Training and Validation Accuracy')\n",
        "plt.legend()\n",
        "plt.show()"
      ]
    },
    {
      "cell_type": "markdown",
      "metadata": {
        "id": "CC1hdp5moK9f"
      },
      "source": [
        "## Write down your conclusions, insights, and further ideas below"
      ]
    },
    {
      "cell_type": "markdown",
      "metadata": {
        "id": "kIn6chhBoNaP"
      },
      "source": []
    },
    {
      "cell_type": "markdown",
      "metadata": {},
      "source": [
        "There's an optimal tree depth that balances the model's complexity with its ability to generalize, evident from the peak in validation accuracy. Deep trees tend to overfit, as shown by higher training accuracies but lower validation accuracies, indicating the model captures noise in the training data.\n",
        "\n",
        "We can use cross-validation to tune other hyperparameters, improving model performance without increasing complexity unnecessarily.\n",
        "In addition, we could explore ensemble models like Random Forests or Gradient Boosting for better generalization and robustness against overfitting."
      ]
    }
  ],
  "metadata": {
    "colab": {
      "provenance": []
    },
    "kernelspec": {
      "display_name": "Python 3",
      "name": "python3"
    },
    "language_info": {
      "codemirror_mode": {
        "name": "ipython",
        "version": 3
      },
      "file_extension": ".py",
      "mimetype": "text/x-python",
      "name": "python",
      "nbconvert_exporter": "python",
      "pygments_lexer": "ipython3",
      "version": "3.11.4"
    }
  },
  "nbformat": 4,
  "nbformat_minor": 0
}
