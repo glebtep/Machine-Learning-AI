{
  "cells": [
    {
      "cell_type": "code",
      "execution_count": 1,
      "metadata": {
        "id": "It5YphbjVLE9"
      },
      "outputs": [],
      "source": [
        "import pandas as pd\n",
        "import numpy as np"
      ]
    },
    {
      "cell_type": "code",
      "execution_count": 2,
      "metadata": {
        "id": "MZqS38ieBFDa"
      },
      "outputs": [],
      "source": [
        "data = pd.read_excel(\"houses_for_rent_madrid.xlsx\")"
      ]
    },
    {
      "cell_type": "code",
      "execution_count": 3,
      "metadata": {
        "id": "G26vfoZXBJXv"
      },
      "outputs": [
        {
          "data": {
            "text/plain": [
              "Id                int64\n",
              "District         object\n",
              "Address          object\n",
              "Number           object\n",
              "Area             object\n",
              "Rent              int64\n",
              "Bedrooms        float64\n",
              "Sq.Mt             int64\n",
              "Floor           float64\n",
              "Outer           float64\n",
              "Elevator        float64\n",
              "Penthouse         int64\n",
              "Cottage           int64\n",
              "Duplex            int64\n",
              "Semidetached      int64\n",
              "dtype: object"
            ]
          },
          "execution_count": 3,
          "metadata": {},
          "output_type": "execute_result"
        }
      ],
      "source": [
        "data.dtypes"
      ]
    },
    {
      "cell_type": "code",
      "execution_count": 4,
      "metadata": {
        "id": "wXEqOZtFCBXy"
      },
      "outputs": [],
      "source": [
        "# Data preparation: Remove Number, Address, Id, drop rows with missing values,\n",
        "# convert, get one-hot (dummy) encoding for the categoricals.\n",
        "# Split to 80%-20% train-test.\n",
        "from sklearn.model_selection import train_test_split\n",
        "data_prepared = data.drop(columns=[\"Number\", \"Address\", \"Id\"])\n",
        "data_prepared = data_prepared.dropna(axis=0)\n",
        "data_prepared[\"District\"] = data[\"District\"].astype(\"category\")\n",
        "data_prepared[\"Area\"] = data[\"Area\"].astype(\"category\")\n",
        "data_prepared = pd.get_dummies(data_prepared)\n",
        "data_train, data_test = train_test_split(data_prepared, train_size = 0.8)"
      ]
    },
    {
      "cell_type": "code",
      "execution_count": 5,
      "metadata": {
        "id": "nBfABuafC9WR"
      },
      "outputs": [
        {
          "data": {
            "text/plain": [
              "(1452, 170)"
            ]
          },
          "execution_count": 5,
          "metadata": {},
          "output_type": "execute_result"
        }
      ],
      "source": [
        "# How many features do we have now?\n",
        "data_train.shape"
      ]
    },
    {
      "cell_type": "code",
      "execution_count": 6,
      "metadata": {
        "id": "Ory1qpUACS3p"
      },
      "outputs": [],
      "source": [
        "from sklearn.tree import DecisionTreeRegressor\n",
        "from sklearn.metrics import r2_score"
      ]
    },
    {
      "cell_type": "markdown",
      "metadata": {
        "id": "B08FpD26JLlw"
      },
      "source": [
        "## Your job\n",
        "Train a regressor for \"Rent\" using decision trees.  Start with no restriction on the tree growth, and then try to fiddle with the \"max_depth\" parameter\n",
        "(to control the depth of the tree) and the \"min_samples_split\", which prevents splitting nodes that have too little training data in them.  Use a real number, for example, 0.05 means that the algorithm won't split nodes with less than 0.05*n training samples, where n is the size of the training set.\n",
        "\n",
        "Either using a loop or manually, find the best choice of min_samples_split and max_depth on the test set (which is here used as a validation set only)."
      ]
    },
    {
      "cell_type": "code",
      "execution_count": null,
      "metadata": {
        "id": "JtNbI_87CZZ6"
      },
      "outputs": [],
      "source": [
        "# Documentation for DecisionTreeRegressor:\n",
        "# https://scikit-learn.org/stable/modules/generated/sklearn.tree.DecisionTreeRegressor.html#sklearn.tree.DecisionTreeRegressor\n",
        "clf = DecisionTreeRegressor()"
      ]
    },
    {
      "cell_type": "code",
      "execution_count": 7,
      "metadata": {
        "id": "RQJXxOZeEBx_"
      },
      "outputs": [
        {
          "name": "stdout",
          "output_type": "stream",
          "text": [
            "Best R^2 Score: 0.6238807728432401\n",
            "Best Parameters: {'max_depth': 10, 'min_samples_split': 0.05}\n"
          ]
        }
      ],
      "source": [
        "\n",
        "X = data_prepared.drop('Rent', axis=1)\n",
        "y = data_prepared['Rent']\n",
        "X_train, X_test, y_train, y_test = train_test_split(X, y, train_size=0.8)\n",
        "\n",
        "best_score = float('-inf')\n",
        "best_params = {'max_depth': None, 'min_samples_split': 2}\n",
        "\n",
        "max_depths = [None, 5, 10, 15, 20]\n",
        "min_samples_splits = [2, 0.05, 0.1, 0.2]\n",
        "\n",
        "for max_depth in max_depths:\n",
        "    for min_samples_split in min_samples_splits:\n",
        "        model = DecisionTreeRegressor(max_depth=max_depth, min_samples_split=min_samples_split)\n",
        "        model.fit(X_train, y_train)\n",
        "\n",
        "        y_pred = model.predict(X_test)\n",
        "        score = r2_score(y_test, y_pred)\n",
        "\n",
        "        if score > best_score:\n",
        "            best_score = score\n",
        "            best_params = {'max_depth': max_depth, 'min_samples_split': min_samples_split}\n",
        "\n",
        "print(f\"Best R^2 Score: {best_score}\")\n",
        "print(f\"Best Parameters: {best_params}\")"
      ]
    }
  ],
  "metadata": {
    "colab": {
      "provenance": []
    },
    "kernelspec": {
      "display_name": "Python 3",
      "name": "python3"
    },
    "language_info": {
      "codemirror_mode": {
        "name": "ipython",
        "version": 3
      },
      "file_extension": ".py",
      "mimetype": "text/x-python",
      "name": "python",
      "nbconvert_exporter": "python",
      "pygments_lexer": "ipython3",
      "version": "3.11.4"
    }
  },
  "nbformat": 4,
  "nbformat_minor": 0
}
